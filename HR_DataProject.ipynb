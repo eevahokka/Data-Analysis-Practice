{
  "nbformat": 4,
  "nbformat_minor": 0,
  "metadata": {
    "colab": {
      "provenance": [],
      "authorship_tag": "ABX9TyPTkWfQNw/VF9+6c3IcjQLA",
      "include_colab_link": true
    },
    "kernelspec": {
      "name": "python3",
      "display_name": "Python 3"
    },
    "language_info": {
      "name": "python"
    }
  },
  "cells": [
    {
      "cell_type": "markdown",
      "metadata": {
        "id": "view-in-github",
        "colab_type": "text"
      },
      "source": [
        "<a href=\"https://colab.research.google.com/github/eevahokka/Data-Analysis-Practice/blob/main/HR_DataProject.ipynb\" target=\"_parent\"><img src=\"https://colab.research.google.com/assets/colab-badge.svg\" alt=\"Open In Colab\"/></a>"
      ]
    },
    {
      "cell_type": "markdown",
      "source": [
        "\n",
        "# 📘 Introduction\n",
        "\n",
        "\n",
        "Author: Eeva Hökkä\n",
        "\n",
        "Date: 8 June 2025"
      ],
      "metadata": {
        "id": "yxE6ee3DSk2i"
      }
    },
    {
      "cell_type": "markdown",
      "source": [
        "This notebook explores a fictional HR dataset using SQL and Python.\n",
        "We analyze employee tenure, salary growth, departmental structures,\n",
        "attendance behavior, and project engagement.\n",
        "All analysis is performed on a shared SQLite database."
      ],
      "metadata": {
        "id": "R77Ll5s9Su6T"
      }
    },
    {
      "cell_type": "markdown",
      "source": [
        "# 📁 Load and Connect to SQL Database\n"
      ],
      "metadata": {
        "id": "7mryMCk0S0d_"
      }
    },
    {
      "cell_type": "code",
      "source": [
        "import sqlite3\n",
        "\n",
        "conn = sqlite3.connect(\"hr_data.db\")\n",
        "cursor = conn.cursor()"
      ],
      "metadata": {
        "id": "26hps_LwS0Lh"
      },
      "execution_count": null,
      "outputs": []
    },
    {
      "cell_type": "markdown",
      "source": [
        "# 📊 1: Longest Tenure with Current Salary\n",
        "\n",
        "Find the employee with the longest tenure and their current salary."
      ],
      "metadata": {
        "id": "aN_ypsHXS6RK"
      }
    },
    {
      "cell_type": "code",
      "source": [
        "cursor.execute(\"\"\"\n",
        "SELECT e.name, e.hire_date, s.salary\n",
        "FROM employees e\n",
        "JOIN salary_history s ON e.id = s.employee_id\n",
        "WHERE s.year = 2023\n",
        "ORDER BY e.hire_date ASC\n",
        "LIMIT 1;\n",
        "\"\"\")\n",
        "print(cursor.fetchall())"
      ],
      "metadata": {
        "id": "DaXb0FkgSxeo"
      },
      "execution_count": null,
      "outputs": []
    },
    {
      "cell_type": "markdown",
      "source": [
        "# 🐍 2: Employees with >5 Years Tenure\n",
        "\n",
        "Write a function that takes a list of hire dates and returns the number of employees with more than 5 years of tenure as of today.\n"
      ],
      "metadata": {
        "id": "DU8f80PHTDj7"
      }
    },
    {
      "cell_type": "code",
      "source": [
        "from datetime import datetime\n",
        "\n",
        "today = now()\n",
        "\n",
        "def more_than_5y(hire_dates, today):\n",
        "    counter = 0\n",
        "    for element in hire_dates:\n",
        "        year = int(element.split('-')[0])\n",
        "        this_year = int(today.split('-')[0])\n",
        "        if this_year - year > 5:\n",
        "            counter += 1\n",
        "        elif this_year - year == 5:\n",
        "            month = int(element.split('-')[1])\n",
        "            this_month = int(today.split('-')[1])\n",
        "            if this_month - month > 0:\n",
        "                counter += 1\n",
        "            elif this_month - month == 0:\n",
        "                date = int(element.split('-')[2])\n",
        "                this_day = int(today.split('-')[2])\n",
        "                if this_day - date > 0:\n",
        "                    counter += 1\n",
        "    return counter\n",
        "\n",
        "cursor.execute(\"SELECT hire_date FROM employees\")\n",
        "hire_dates = [row[0] for row in cursor.fetchall()]\n",
        "print(more_than_5y(hire_dates, today))\n"
      ],
      "metadata": {
        "id": "1WBkFGGnTJ4J"
      },
      "execution_count": null,
      "outputs": []
    },
    {
      "cell_type": "markdown",
      "source": [
        "# ⏱ 3: Project with Most Logged Hours\n",
        "\n",
        "Find the project with the highest total logged hours and return the project name and total hours.\n",
        "\n",
        "Then, write a function that takes a dictionary of employee IDs and hours worked and returns the ID(s) of the employee(s) with the maximum hours.\n"
      ],
      "metadata": {
        "id": "q0tdJBI4TLSh"
      }
    },
    {
      "cell_type": "code",
      "source": [
        "cursor.execute(\"\"\"\n",
        "SELECT p.name, SUM(t.hours) as total_hours\n",
        "FROM projects p\n",
        "JOIN timesheets t ON p.id = t.project_id\n",
        "GROUP BY p.name\n",
        "ORDER BY total_hours DESC\n",
        "LIMIT 1;\n",
        "\"\"\")\n",
        "print(cursor.fetchall())\n",
        "\n",
        "# Python function\n",
        "hours_dict = {}\n",
        "cursor.execute(\"SELECT employee_id, SUM(hours) FROM timesheets GROUP BY employee_id\")\n",
        "for row in cursor.fetchall():\n",
        "    hours_dict[str(row[0])] = row[1]\n",
        "\n",
        "def top_employee(dictionary):\n",
        "    top_e = []\n",
        "    max_hours = max(dictionary.values())\n",
        "    for hours in dictionary:\n",
        "        if max_hours == dictionary[hours]:\n",
        "            top_e.append(hours)\n",
        "    return top_e\n",
        "\n",
        "print(top_employee(hours_dict))"
      ],
      "metadata": {
        "id": "vUkbIlrfTTED"
      },
      "execution_count": null,
      "outputs": []
    },
    {
      "cell_type": "markdown",
      "source": [
        "# 🏢 4: Employees per Department\n",
        "\n",
        "Write a query to return the number of employees per department, ordered by department name.\n",
        "\n",
        "Then, write a function that takes a list of department names and returns a dictionary with each name and its string length."
      ],
      "metadata": {
        "id": "4uALKJ9GTVF0"
      }
    },
    {
      "cell_type": "code",
      "source": [
        "cursor.execute(\"\"\"\n",
        "SELECT d.name, COUNT(e.id) as num_employees\n",
        "FROM departments d\n",
        "LEFT JOIN employees e ON d.id = e.department_id\n",
        "GROUP BY d.name\n",
        "ORDER BY d.name;\n",
        "\"\"\")\n",
        "print(cursor.fetchall())\n",
        "\n",
        "# Python function\n",
        "cursor.execute(\"SELECT name FROM departments\")\n",
        "departments = [row[0] for row in cursor.fetchall()]\n",
        "\n",
        "def dictilen(list):\n",
        "    dic = {}\n",
        "    for dept in list:\n",
        "        count = 0\n",
        "        for char in dept:\n",
        "            count += 1\n",
        "        dic[dept] = count\n",
        "    return dic\n",
        "\n",
        "print(dictilen(departments))\n"
      ],
      "metadata": {
        "id": "mV1asAx7TZL_"
      },
      "execution_count": null,
      "outputs": []
    },
    {
      "cell_type": "markdown",
      "source": [
        "# 💰 5: Salary Growth from 2021 to 2023\n",
        "\n",
        "Find the percentage increase in salary for each employee from 2021 to 2023, for those who have both years recorded.\n",
        "\n",
        "Then, write a function that takes a list of (year, salary) tuples and returns the year with the maximum salary."
      ],
      "metadata": {
        "id": "7ZLRGAT_TZ9_"
      }
    },
    {
      "cell_type": "code",
      "source": [
        "cursor.execute(\"\"\"\n",
        "SELECT e.name, s21.salary AS salary_2021, s23.salary AS salary_2023,\n",
        "       ROUND(((s23.salary - s21.salary) * 100.0) / s21.salary, 2) AS percent_increase\n",
        "FROM salary_history s21\n",
        "JOIN salary_history s23 ON s21.employee_id = s23.employee_id\n",
        "JOIN employees e ON e.id = s21.employee_id\n",
        "WHERE s21.year = 2021 AND s23.year = 2023;\n",
        "\"\"\")\n",
        "print(cursor.fetchall())\n",
        "\n",
        "cursor.execute(\"SELECT year, salary FROM salary_history WHERE employee_id = 2\")\n",
        "salaries = cursor.fetchall()\n",
        "\n",
        "def max_salary(list):\n",
        "    max_salary = float('-inf')\n",
        "    year = 0\n",
        "    for tuple in list:\n",
        "        if tuple[1] > max_salary:\n",
        "            max_salary = tuple[1]\n",
        "            year = tuple[0]\n",
        "    return year\n",
        "\n",
        "print(max_salary(salaries))"
      ],
      "metadata": {
        "id": "jXbe-ZOWTcCF"
      },
      "execution_count": null,
      "outputs": []
    },
    {
      "cell_type": "markdown",
      "source": [
        "# ✅ 6: Attendance Counts per Employee\n",
        "\n",
        "Find the number of days each employee was marked \"Present\".\n",
        "\n",
        "Then, write a function that takes a list of attendance records and returns a count of \"Present\" days per employee."
      ],
      "metadata": {
        "id": "_NeudEJ-Te9q"
      }
    },
    {
      "cell_type": "code",
      "source": [
        "cursor.execute(\"\"\"\n",
        "SELECT e.name, COUNT(*)\n",
        "FROM attendance a\n",
        "JOIN employees e ON e.id = a.employee_id\n",
        "WHERE a.status = 'Present'\n",
        "GROUP BY e.name;\n",
        "\"\"\")\n",
        "print(cursor.fetchall())\n",
        "\n",
        "cursor.execute(\"SELECT e.name, a.date, a.status FROM attendance a JOIN employees e ON a.employee_id = e.id\")\n",
        "attendance_records = cursor.fetchall()\n",
        "\n",
        "def employee_present(list):\n",
        "    employees_seen = {}\n",
        "    for employee in list:\n",
        "        if employee[2] == \"Present\":\n",
        "            if employee[0] not in employees_seen:\n",
        "                employees_seen[employee[0]] = 1\n",
        "            else:\n",
        "                employees_seen[employee[0]] += 1\n",
        "    return employees_seen\n",
        "\n",
        "print(employee_present(attendance_records))"
      ],
      "metadata": {
        "id": "SV9WmUekTgvr"
      },
      "execution_count": null,
      "outputs": []
    },
    {
      "cell_type": "markdown",
      "source": [
        "# End of notebook"
      ],
      "metadata": {
        "id": "BJa-QZvWVRUr"
      }
    }
  ]
}